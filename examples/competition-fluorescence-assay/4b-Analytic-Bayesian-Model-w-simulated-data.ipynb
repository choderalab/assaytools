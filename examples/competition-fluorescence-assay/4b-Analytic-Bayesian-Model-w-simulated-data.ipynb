{
 "cells": [
  {
   "cell_type": "markdown",
   "metadata": {},
   "source": [
    "# Analytical Bayesian Model with Simulated Data"
   ]
  },
  {
   "cell_type": "markdown",
   "metadata": {},
   "source": [
    "In this notebook we are using our Bayesian model to fit competitive binding experiment to fit simulated data."
   ]
  },
  {
   "cell_type": "code",
   "execution_count": 1,
   "metadata": {
    "collapsed": false
   },
   "outputs": [
    {
     "name": "stdout",
     "output_type": "stream",
     "text": [
      "Populating the interactive namespace from numpy and matplotlib\n"
     ]
    }
   ],
   "source": [
    "#First we simulate some competitive binding data.\n",
    "import numpy as np\n",
    "from glob import glob\n",
    "import matplotlib.pyplot as plt\n",
    "%pylab inline"
   ]
  },
  {
   "cell_type": "code",
   "execution_count": 2,
   "metadata": {
    "collapsed": true
   },
   "outputs": [],
   "source": [
    "deltaG_L = -13.5 #kT\n",
    "deltaG_B = -15.5 #kT"
   ]
  },
  {
   "cell_type": "code",
   "execution_count": 3,
   "metadata": {
    "collapsed": false
   },
   "outputs": [
    {
     "data": {
      "text/plain": [
       "1.3709590863840845e-06"
      ]
     },
     "execution_count": 3,
     "metadata": {},
     "output_type": "execute_result"
    }
   ],
   "source": [
    "#This corresponds to Kd's of\n",
    "Kd_L = np.exp(deltaG_L)\n",
    "Kd_L"
   ]
  },
  {
   "cell_type": "code",
   "execution_count": 4,
   "metadata": {
    "collapsed": false
   },
   "outputs": [
    {
     "data": {
      "text/plain": [
       "1.8553913626159784e-07"
      ]
     },
     "execution_count": 4,
     "metadata": {},
     "output_type": "execute_result"
    }
   ],
   "source": [
    "Kd_B = np.exp(deltaG_B)\n",
    "Kd_B"
   ]
  },
  {
   "cell_type": "code",
   "execution_count": 5,
   "metadata": {
    "collapsed": true
   },
   "outputs": [],
   "source": [
    "#Competitive binding function\n",
    "def three_component_competitive_binding_exact(Ptot, Ltot, K_L, Btot, K_B):\n",
    "    \"\"\"\n",
    "    Parameters\n",
    "    ----------\n",
    "    Ptot : float\n",
    "        Total protein concentration summed over bound and unbound species, molarity.\n",
    "    Ltot : float\n",
    "        Total fluorescent ligand concentration summed over bound and unbound speciesl, molarity.\n",
    "    K_L : float\n",
    "        Dissociation constant of fluoerscent L to P\n",
    "    Btot : float\n",
    "        Total competitive ligand concentration\n",
    "    K_B : float\n",
    "        Dissociation constant of B to B\n",
    "        \n",
    "    Returns\n",
    "    -------\n",
    "    P : float\n",
    "        Free protein concentration\n",
    "    L : float\n",
    "        Free ligand concentration\n",
    "    B : float\n",
    "        Free ligand concentration\n",
    "    PL : float\n",
    "        Concentration of PA complex\n",
    "    PB : float\n",
    "        Concentration of PB complex\n",
    "        \n",
    "    Usage\n",
    "    -----\n",
    "    [P, L, B, PL, PB] = three_component_competitive_binding(Ptot, Ltot, K_L, Btot, K_B)\n",
    "    \"\"\"\n",
    "    \n",
    "    # P^3 + aP^2 + bP + c = 0\n",
    "    a = K_L + K_B + Ltot + Btot - Ptot\n",
    "    b = K_L*K_B + K_B*(Ltot-Ptot) + K_B*(Btot - Ptot)\n",
    "    c = -K_L*K_B*Ptot\n",
    "    \n",
    "    # Subsitute P=u-a/3\n",
    "    # u^3 - qu - r = 0 where \n",
    "    q = (a**2)/3.0 - b\n",
    "    r = (-2.0/27.0)*a**3 +(1.0/3.0)*a*b - c\n",
    "    \n",
    "    # Discriminant\n",
    "    delta = (r**2)/4.0 -(q**3)/27.0\n",
    "    \n",
    "    # 3 roots. Physically meaningful root is u.\n",
    "    #theta = np.arccos((-2*(a**3)+9*a*b-27*c)/(2*np.sqrt((a**2-3*b)**3)))\n",
    "\n",
    "    theta_intermediate = (-2*(a**3)+9*a*b-27*c)/(2*np.sqrt((a**2-3*b)**3))\n",
    "        \n",
    "    # this function prevents nans that occur when taking arccos directly\n",
    "    def better_theta(theta_intermediate):\n",
    "        global value\n",
    "        if -1.0 <= theta_intermediate <= 1.0:\n",
    "            value = np.arccos( theta_intermediate )\n",
    "        elif theta_intermediate < -1.0:\n",
    "            value = np.pi\n",
    "        elif theta_intermediate > 1.0:\n",
    "            value = 0.0\n",
    "        return value\n",
    "        \n",
    "    theta = np.asarray(list(map(better_theta,theta_intermediate)))\n",
    "\n",
    "    u = (2.0/3.0)*np.sqrt(a**2-3*b)*np.cos(theta/3.0)\n",
    "    \n",
    "    # Free protein concentration [P]\n",
    "    P = u - a/3.0\n",
    "    \n",
    "    # [PA]\n",
    "    PL = P*Ltot/(K_L + P)\n",
    "    \n",
    "    # [PB]\n",
    "    PB = P*Btot/(K_B + P)\n",
    "    \n",
    "    # Free A concentration [A]\n",
    "    L = Ltot - PL\n",
    "    \n",
    "    # Free B concentration [B]\n",
    "    B = Btot - PB\n",
    "    \n",
    "    # Apparent Kd of L (shift caused by competitive ligand)\n",
    "    # K_L_app = K_L*(1+B/K_B)\n",
    "    \n",
    "    return [P, L, B, PL, PB]"
   ]
  },
  {
   "cell_type": "code",
   "execution_count": 6,
   "metadata": {
    "collapsed": false
   },
   "outputs": [],
   "source": [
    "inputs = {\n",
    "    'xml_file_path' :  \"../../../assaytools/assaytools/examples/competition-fluorescence-assay/data/\",\n",
    "    'file_set'      :  {'Abl-IMA': glob(\"../../../assaytools/assaytools/examples/competition-fluorescence-assay/data/Abl*16-22-45_plate*.xml\")},\n",
    "    'ligand_order'  :  ['Gefitinib','Gefitinib','Gefitinib','Gefitinib'],\n",
    "    'competitive_ligand'  :  'Imatinib',\n",
    "    'section'       :  '280_BottomRead',\n",
    "    'Lstated'       :  np.array([20.0e-6,9.15e-6,4.18e-6,1.91e-6,0.875e-6,0.4e-6,0.183e-6,0.0837e-6,0.0383e-6,0.0175e-6,0.008e-6,0.0], np.float64), # ligand concentration, M\n",
    "    'Bstated'       :  10.0e-6 * np.ones([12],np.float64), # competitive ligand concentration, M\n",
    "    'Pstated'       :  0.5e-6 * np.ones([12],np.float64), # protein concentration, M\n",
    "    'assay_volume'  :  100e-6, # assay volume, L\n",
    "    'well_area'     :  0.3969, # well area, cm^2 for 4ti-0203 [http://4ti.co.uk/files/3113/4217/2464/4ti-0201.pdf],\n",
    "    'DG_L_mean'     :  -12.5, #DeltaG of Gefitinib mean estimate (kT)\n",
    "    'DG_L_std'      :  1      #DeltaG of Gefitinib standard deviation estimate (kT)\n",
    "    }"
   ]
  },
  {
   "cell_type": "code",
   "execution_count": 7,
   "metadata": {
    "collapsed": false
   },
   "outputs": [],
   "source": [
    "[P_bos_ima, L_bos_ima, B_bos_ima, PL_bos_ima, PB_bos_ima] = three_component_competitive_binding_exact(inputs['Pstated'][0], inputs['Lstated'], Kd_L, inputs['Bstated'][0], Kd_B)"
   ]
  },
  {
   "cell_type": "code",
   "execution_count": 10,
   "metadata": {
    "collapsed": true
   },
   "outputs": [],
   "source": [
    "sigma = 60.\n",
    "F_background = 20000\n",
    "F_PL = (40/1e-9)\n",
    "F_L = (2/1e-8)\n",
    "\n",
    "F_PL_i = F_background + F_PL * PL_bos_ima + F_L * L_bos_ima + sigma * np.random.randn()\n",
    "F_L_i = F_background + F_L * L_bos_ima + sigma * np.random.randn()"
   ]
  },
  {
   "cell_type": "code",
   "execution_count": 11,
   "metadata": {
    "collapsed": false
   },
   "outputs": [
    {
     "data": {
      "image/png": "[encoded data removed]",
      "text/plain": [
       "<matplotlib.figure.Figure at 0x110d74f28>"
      ]
     },
     "metadata": {},
     "output_type": "display_data"
    }
   ],
   "source": [
    "fig, ax = plt.subplots(figsize=(8,4))\n",
    "\n",
    "plt.semilogx(inputs['Lstated'], F_PL_i,'o',color='orange',label='%s (M)'%inputs['Bstated'][0])\n",
    "\n",
    "plt.semilogx(inputs['Lstated'],F_L_i,'o',color='gray',label='ligand')\n",
    "    \n",
    "ax.spines['top'].set_visible(False)\n",
    "ax.spines['right'].set_visible(False)\n",
    "\n",
    "plt.xlabel('$[L]_T$ (M)',fontsize=16);\n",
    "plt.yticks([])\n",
    "plt.xticks(fontsize=16)\n",
    "plt.ylabel('Fluorescence',fontsize=20);\n",
    "\n",
    "plt.tight_layout()"
   ]
  },
  {
   "cell_type": "markdown",
   "metadata": {},
   "source": [
    "## That's our simulated data, now let's try to fit it with our Bayesian model"
   ]
  },
  {
   "cell_type": "code",
   "execution_count": 12,
   "metadata": {
    "collapsed": true
   },
   "outputs": [],
   "source": [
    "# We know errors from our pipetting instruments.\n",
    "P_error = 0.15\n",
    "L_error = 0.08\n",
    "B_error = 0.08\n",
    "\n",
    "assay_volume = 100e-6 # assay volume, L\n",
    "\n",
    "#Because we are interested in the orange value\n",
    "\n",
    "dPstated = P_error * inputs['Pstated']\n",
    "dLstated = L_error * inputs['Lstated']\n",
    "dBstated = B_error * inputs['Bstated']"
   ]
  },
  {
   "cell_type": "code",
   "execution_count": 13,
   "metadata": {
    "collapsed": false
   },
   "outputs": [],
   "source": [
    "import pymc"
   ]
  },
  {
   "cell_type": "code",
   "execution_count": 14,
   "metadata": {
    "collapsed": true
   },
   "outputs": [],
   "source": [
    "DG_min = np.log(1e-15) # kT, most favorable (negative) binding free energy possible; 1 fM\n",
    "DG_max = +0 # kT, least favorable binding free energy possible"
   ]
  },
  {
   "cell_type": "code",
   "execution_count": 15,
   "metadata": {
    "collapsed": false
   },
   "outputs": [],
   "source": [
    "#this is just for the lognormal wrapper and inner filter effect and run_mcmc\n",
    "from assaytools import pymcmodels\n",
    "from assaytools import bindingmodels"
   ]
  },
  {
   "cell_type": "code",
   "execution_count": null,
   "metadata": {
    "collapsed": false
   },
   "outputs": [],
   "source": []
  },
  {
   "cell_type": "code",
   "execution_count": 16,
   "metadata": {
    "collapsed": true
   },
   "outputs": [],
   "source": [
    "#This is our new competition assay model, which has competition as an option (note just for top fluroescence)\n",
    "#if the values on the second line are included\n",
    "def make_comp_model(Pstated, dPstated, Lstated, dLstated,\n",
    "               Bstated = None, dBstated = None, DG_L_mean = None, DG_L_std = None, # specific for competition assay\n",
    "               top_complex_fluorescence=None, top_ligand_fluorescence=None,\n",
    "               DG_prior='uniform',\n",
    "               concentration_priors='lognormal',\n",
    "               quantum_yield_priors='lognormal',\n",
    "               use_primary_inner_filter_correction=True,\n",
    "               use_secondary_inner_filter_correction=True,\n",
    "               assay_volume=100e-6, well_area=0.1586,\n",
    "               epsilon_ex=None, depsilon_ex=None,\n",
    "               epsilon_em=None, depsilon_em=None,\n",
    "               ligand_ex_absorbance=None, ligand_em_absorbance=None,\n",
    "               F_PL=None, dF_PL=None):\n",
    "\n",
    "    # Compute path length.\n",
    "    path_length = assay_volume * 1000 / well_area # cm, needed for inner filter effect corrections\n",
    "\n",
    "    # Compute number of samples.\n",
    "    N = len(Lstated)\n",
    "    \n",
    "    # Check input.\n",
    "    # TODO: Check fluorescence and absorbance measurements for correct dimensions.\n",
    "    if (len(Pstated) != N):\n",
    "        raise Exception('len(Pstated) [%d] must equal len(Lstated) [%d].' % (len(Pstated), len(Lstated)))\n",
    "    if (len(dPstated) != N):\n",
    "        raise Exception('len(dPstated) [%d] must equal len(Lstated) [%d].' % (len(dPstated), len(Lstated)))\n",
    "    if (len(dLstated) != N):\n",
    "        raise Exception('len(dLstated) [%d] must equal len(Lstated) [%d].' % (len(dLstated), len(Lstated)))\n",
    "\n",
    "    # Note whether we have top or bottom fluorescence measurements.\n",
    "    top_fluorescence = (top_complex_fluorescence is not None) or (top_ligand_fluorescence is not None) # True if any top fluorescence measurements provided\n",
    "\n",
    "    # Create an empty dict to hold the model.\n",
    "    model = dict()\n",
    "    \n",
    "    # Prior on binding free energies.\n",
    "    if DG_prior == 'uniform':\n",
    "        DeltaG_B = pymc.Uniform('DeltaG_B', lower=DG_min, upper=DG_max) # binding free energy (kT), uniform over huge range\n",
    "    elif DG_prior == 'chembl':\n",
    "        DeltaG_B = pymc.Normal('DeltaG_B', mu=0, tau=1./(12.5**2)) # binding free energy (kT), using a Gaussian prior inspured by ChEMBL\n",
    "    else:\n",
    "        raise Exception(\"DG_prior = '%s' unknown. Must be one of 'uniform' or 'chembl'.\" % DG_prior)\n",
    "    model['DeltaG_B'] = DeltaG_B\n",
    "    \n",
    "    # Prior on known binding free energy.\n",
    "    if DG_L_mean == None:\n",
    "        DeltaG_L = pymc.Uniform('DeltaG_L', lower=DG_min, upper=DG_max) # binding free energy (kT), uniform over huge range\n",
    "    else:\n",
    "        DeltaG_L = pymc.Normal('DeltaG_L', mu=DG_L_mean, tau=DG_L_std) \n",
    "    model['DeltaG_L'] = DeltaG_L\n",
    "        \n",
    "    if concentration_priors != 'lognormal':\n",
    "        raise Exception(\"concentration_priors = '%s' unknown. Must be one of ['lognormal'].\" % concentration_priors)\n",
    "    model['log_Ptrue'], model['Ptrue'] = pymcmodels.LogNormalWrapper('Ptrue', mean=Pstated, stddev=dPstated, size=Pstated.shape) # protein concentration (M)\n",
    "    model['log_Ltrue'], model['Ltrue'] = pymcmodels.LogNormalWrapper('Ltrue', mean=Lstated, stddev=dLstated, size=Lstated.shape) # ligand concentration (M)\n",
    "    model['log_Btrue'], model['Btrue'] = pymcmodels.LogNormalWrapper('Btrue', mean=Bstated, stddev=dBstated, size=Bstated.shape) # ligand concentration (M)\n",
    "    model['log_Ltrue_control'], model['Ltrue_control'] = pymcmodels.LogNormalWrapper('Ltrue_control', mean=Lstated, stddev=dLstated, size=Lstated.shape) # ligand concentration in ligand-only wells (M)\n",
    "\n",
    "    # extinction coefficient\n",
    "    model['epsilon_ex'] = 0.0\n",
    "    if use_primary_inner_filter_correction:\n",
    "        if epsilon_ex:\n",
    "            model['log_epsilon_ex'], model['epsilon_ex'] =  pymcmodels.LogNormalWrapper('epsilon_ex', mean=epsilon_ex, stddev=depsilon_ex) # prior is centered on measured extinction coefficient\n",
    "        else:\n",
    "            model['epsilon_ex'] = pymc.Uniform('epsilon_ex', lower=0.0, upper=1000e3, value=70000.0) # extinction coefficient or molar absorptivity for ligand, units of 1/M/cm\n",
    "\n",
    "    model['epsilon_em'] = 0.0\n",
    "    if use_secondary_inner_filter_correction:\n",
    "        if epsilon_em:\n",
    "            model['log_epsilon_em'], model['epsilon_em'] =  pymcmodels.LogNormalWrapper('epsilon_em', mean=epsilon_em, stddev=depsilon_em) # prior is centered on measured extinction coefficient\n",
    "        else:\n",
    "            model['epsilon_em'] = pymc.Uniform('epsilon_em', lower=0.0, upper=1000e3, value=0.0) # extinction coefficient or molar absorptivity for ligand, units of 1/M/cm\n",
    "\n",
    "    # Min and max observed fluorescence.\n",
    "    Fmax = 0.0; Fmin = 1e6;\n",
    "    if top_complex_fluorescence is not None:\n",
    "        Fmax = max(Fmax, top_complex_fluorescence.max()); Fmin = min(Fmin, top_complex_fluorescence.min())\n",
    "    if top_ligand_fluorescence is not None:\n",
    "        Fmax = max(Fmax, top_ligand_fluorescence.max()); Fmin = min(Fmin, top_ligand_fluorescence.min())\n",
    "\n",
    "    # Compute initial guesses for fluorescence quantum yield quantities.\n",
    "    F_plate_guess = Fmin\n",
    "    F_buffer_guess = Fmin / path_length\n",
    "    F_L_guess = (Fmax - Fmin) / Lstated.max()\n",
    "    F_P_guess = Fmin\n",
    "    F_P_guess = Fmin / Pstated.min()\n",
    "    F_PL_guess = (Fmax - Fmin) / min(Pstated.max(), Lstated.max())\n",
    "\n",
    "    # Priors on fluorescence intensities of complexes (later divided by a factor of Pstated for scale).\n",
    "\n",
    "    if quantum_yield_priors == 'lognormal':\n",
    "        stddev = 1.0 # relative factor for stddev guess\n",
    "        model['log_F_plate'], model['F_plate'] =  pymcmodels.LogNormalWrapper('F_plate', mean=F_plate_guess, stddev=stddev*F_plate_guess) # plate fluorescence\n",
    "        model['log_F_buffer'], model['F_buffer'] =  pymcmodels.LogNormalWrapper('F_buffer', mean=F_buffer_guess, stddev=stddev*F_buffer_guess) # buffer fluorescence\n",
    "        model['log_F_buffer_control'], model['F_buffer_control'] =  pymcmodels.LogNormalWrapper('F_buffer_control', mean=F_buffer_guess, stddev=stddev*F_buffer_guess) # buffer fluorescence\n",
    "        if (F_PL is not None) and (dF_PL is not None):\n",
    "            model['log_F_PL'], model['F_PL'] =  pymcmodels.LogNormalWrapper('F_PL', mean=F_PL, stddev=dF_PL)\n",
    "        else:\n",
    "            model['log_F_PL'], model['F_PL'] =  pymcmodels.LogNormalWrapper('F_PL', mean=F_PL_guess, stddev=stddev*F_PL_guess) # complex fluorescence\n",
    "        model['log_F_P'], model['F_P'] =  pymcmodels.LogNormalWrapper('F_P', mean=F_P_guess, stddev=stddev*F_P_guess) # protein fluorescence\n",
    "        model['log_F_L'], model['F_L'] =  pymcmodels.LogNormalWrapper('F_L', mean=F_L_guess, stddev=stddev*F_L_guess) # ligand fluorescence\n",
    "    else:\n",
    "        raise Exception(\"quantum_yield_priors = '%s' unknown. Must be one of ['lognormal', 'uniform'].\" % quantum_yield_priors)\n",
    "\n",
    "    # Unknown experimental measurement error.\n",
    "    if top_fluorescence:\n",
    "        model['log_sigma_top'] = pymc.Uniform('log_sigma_top', lower=-10, upper=np.log(Fmax), value=np.log(5))\n",
    "        model['sigma_top'] = pymc.Lambda('sigma_top', lambda log_sigma=model['log_sigma_top'] : np.exp(log_sigma) )\n",
    "        model['precision_top'] = pymc.Lambda('precision_top', lambda log_sigma=model['log_sigma_top'] : np.exp(-2*log_sigma) )\n",
    "\n",
    "    if top_fluorescence:\n",
    "        model['log_sigma_abs'] = pymc.Uniform('log_sigma_abs', lower=-10, upper=0, value=np.log(0.01))\n",
    "        model['sigma_abs'] = pymc.Lambda('sigma_abs', lambda log_sigma=model['log_sigma_abs'] : np.exp(log_sigma) )\n",
    "        model['precision_abs'] = pymc.Lambda('precision_abs', lambda log_sigma=model['log_sigma_abs'] : np.exp(-2*log_sigma) )\n",
    "\n",
    "    if top_complex_fluorescence is not None:\n",
    "        @pymc.deterministic\n",
    "        def top_complex_fluorescence_model(F_plate=model['F_plate'], F_buffer=model['F_buffer'],\n",
    "                                           F_PL=model['F_PL'], F_P=model['F_P'], F_L=model['F_L'],\n",
    "                                           Ptrue=model['Ptrue'], Ltrue=model['Ltrue'], Btrue=model['Btrue'], DeltaG_L=model['DeltaG_L'], DeltaG_B=model['DeltaG_B'],\n",
    "                                           epsilon_ex=model['epsilon_ex'], epsilon_em=model['epsilon_em']):\n",
    "            [P_i, L_i, PL_i, B_i, PB_i] = bindingmodels.CompetitionBindingModel.equilibrium_concentrations(Ptrue[:], Ltrue[:], DeltaG_L, Btrue[:], DeltaG_B)\n",
    "            IF_i = pymcmodels.inner_filter_effect_attenuation(epsilon_ex, epsilon_em, path_length, L_i, geometry='top')\n",
    "            IF_i_plate = np.exp(-(epsilon_ex+epsilon_em)*path_length*L_i) # inner filter effect applied only to plate\n",
    "            Fmodel_i = IF_i[:]*(F_PL*PL_i + F_L*L_i + F_P*P_i + F_buffer*path_length) + IF_i_plate*F_plate\n",
    "            return Fmodel_i\n",
    "        # Add to model.\n",
    "        model['top_complex_fluorescence_model'] = top_complex_fluorescence_model\n",
    "        model['log_top_complex_fluorescence'], model['top_complex_fluorescence'] = pymcmodels.LogNormalWrapper('top_complex_fluorescence',\n",
    "            mean=model['top_complex_fluorescence_model'], stddev=model['sigma_top'],\n",
    "            size=[N], observed=True, value=top_complex_fluorescence) # observed data\n",
    "        \n",
    "    if top_ligand_fluorescence is not None:\n",
    "        @pymc.deterministic\n",
    "        def top_ligand_fluorescence_model(F_plate=model['F_plate'], F_buffer_control=model['F_buffer_control'],\n",
    "                                          F_L=model['F_L'],\n",
    "                                          Ltrue_control=model['Ltrue_control'],\n",
    "                                          epsilon_ex=model['epsilon_ex'], epsilon_em=model['epsilon_em']):\n",
    "            IF_i = pymcmodels.inner_filter_effect_attenuation(epsilon_ex, epsilon_em, path_length, Ltrue_control, geometry='top')\n",
    "            IF_i_plate = np.exp(-(epsilon_ex+epsilon_em)*path_length*Ltrue_control) # inner filter effect applied only to plate\n",
    "            Fmodel_i = IF_i[:]*(F_L*Ltrue_control + F_buffer_control*path_length) + IF_i_plate*F_plate\n",
    "            return Fmodel_i\n",
    "        # Add to model.\n",
    "        model['top_ligand_fluorescence_model'] = top_ligand_fluorescence_model\n",
    "        model['log_top_ligand_fluorescence'], model['top_ligand_fluorescence'] = pymcmodels.LogNormalWrapper('top_ligand_fluorescence',\n",
    "                                                       mean=model['top_ligand_fluorescence_model'], stddev=model['sigma_top'],\n",
    "                                                       size=[N], observed=True, value=top_ligand_fluorescence) # observed data\n",
    "        \n",
    "    #Below this is competition model stuff!    \n",
    "    \n",
    "    # Compute number of samples.\n",
    "    if Bstated is not None:\n",
    "        N_B = len(Bstated)\n",
    "\n",
    "        # Check input.\n",
    "        # TODO: Check fluorescence and absorbance measurements for correct dimensions.\n",
    "        if (len(Lstated) != N_B):\n",
    "            raise Exception('len(Lstated) [%d] must equal len(Bstated) [%d].' % (len(Lstated), len(Bstated)))\n",
    "        if (len(Pstated) != N_B):\n",
    "            raise Exception('len(Pstated) [%d] must equal len(Bstated) [%d].' % (len(Pstated), len(Bstated)))\n",
    "        if (len(dPstated) != N_B):\n",
    "            raise Exception('len(dPstated) [%d] must equal len(Bstated) [%d].' % (len(dPstated), len(Bstated)))\n",
    "        if (len(dBstated) != N_B):\n",
    "            raise Exception('len(dBstated) [%d] must equal len(Bstated) [%d].' % (len(dBstated), len(Bstated)))\n",
    "\n",
    "            \n",
    "    if Bstated is not None:\n",
    "        @pymc.deterministic\n",
    "        def top_complex_fluorescence_model(F_plate=model['F_plate'], F_buffer=model['F_buffer'],\n",
    "                                           F_PL=model['F_PL'], F_P=model['F_P'], F_L=model['F_L'],\n",
    "                                           Ptrue=model['Ptrue'], Ltrue=model['Ltrue'], Btrue=model['Btrue'],\n",
    "                                           DeltaG_L=model['DeltaG_L'], DeltaG_B=model['DeltaG_B'],\n",
    "                                           epsilon_ex=model['epsilon_ex'], epsilon_em=model['epsilon_em']):\n",
    "            [P_i, L_i, PL_i, B_i, PB_i] = bindingmodels.CompetitionBindingModel.equilibrium_concentrations(Ptrue[:], Ltrue[:], DeltaG_L, Btrue[:], DeltaG_B)\n",
    "            IF_i = pymcmodels.inner_filter_effect_attenuation(epsilon_ex, epsilon_em, path_length, L_i, geometry='top')\n",
    "            IF_i_plate = np.exp(-(epsilon_ex+epsilon_em)*path_length*L_i) # inner filter effect applied only to plate\n",
    "            Fmodel_i = IF_i[:]*(F_PL*PL_i + F_L*L_i + F_P*P_i + F_buffer*path_length) + IF_i_plate*F_plate\n",
    "            return Fmodel_i\n",
    "        # Add to model.\n",
    "        model['top_complex_fluorescence_model'] = top_complex_fluorescence_model\n",
    "        model['log_top_complex_fluorescence'], model['top_complex_fluorescence'] = pymcmodels.LogNormalWrapper('top_complex_fluorescence',\n",
    "            mean=model['top_complex_fluorescence_model'], stddev=model['sigma_top'],\n",
    "            size=[N], observed=True, value=top_complex_fluorescence) # observed data\n",
    "\n",
    "        @pymc.deterministic\n",
    "        def top_ligand_fluorescence_model(F_plate=model['F_plate'], F_buffer_control=model['F_buffer_control'],\n",
    "                                          F_L=model['F_L'],\n",
    "                                          Ltrue_control=model['Ltrue_control'],\n",
    "                                          epsilon_ex=model['epsilon_ex'], epsilon_em=model['epsilon_em']):\n",
    "            IF_i = pymcmodels.inner_filter_effect_attenuation(epsilon_ex, epsilon_em, path_length, Ltrue_control, geometry='top')\n",
    "            IF_i_plate = np.exp(-(epsilon_ex+epsilon_em)*path_length*Ltrue_control) # inner filter effect applied only to plate\n",
    "            Fmodel_i = IF_i[:]*(F_L*Ltrue_control + F_buffer_control*path_length) + IF_i_plate*F_plate\n",
    "            return Fmodel_i\n",
    "        # Add to model.\n",
    "        model['top_ligand_fluorescence_model'] = top_ligand_fluorescence_model\n",
    "        model['log_top_ligand_fluorescence'], model['top_ligand_fluorescence'] = pymcmodels.LogNormalWrapper('top_ligand_fluorescence',\n",
    "                                                       mean=model['top_ligand_fluorescence_model'], stddev=model['sigma_top'],\n",
    "                                                       size=[N], observed=True, value=top_ligand_fluorescence) # observed data\n",
    "    # Promote this to a full-fledged PyMC model.\n",
    "    pymc_model = pymc.Model(model)\n",
    "\n",
    "    # Return the pymc model\n",
    "    return pymc_model"
   ]
  },
  {
   "cell_type": "code",
   "execution_count": 19,
   "metadata": {
    "collapsed": true
   },
   "outputs": [],
   "source": [
    "pymc_comp_model = make_comp_model(inputs['Pstated'], dPstated, inputs['Lstated'], dLstated,\n",
    "    inputs['Bstated'], dBstated, inputs['DG_L_mean'], inputs['DG_L_std'],# specific for competition assay\n",
    "    top_complex_fluorescence=F_PL_i,\n",
    "    top_ligand_fluorescence=F_L_i,\n",
    "    use_primary_inner_filter_correction=True,\n",
    "    use_secondary_inner_filter_correction=True,\n",
    "    assay_volume=assay_volume, DG_prior='uniform')"
   ]
  },
  {
   "cell_type": "code",
   "execution_count": 20,
   "metadata": {
    "collapsed": true
   },
   "outputs": [],
   "source": [
    "nburn = 500\n",
    "niter = 50000\n",
    "nthin = 20"
   ]
  },
  {
   "cell_type": "code",
   "execution_count": 21,
   "metadata": {
    "collapsed": false
   },
   "outputs": [],
   "source": [
    "comp_mcmc = pymc.MCMC(pymc_comp_model)\n",
    "comp_mcmc.sample(iter=(nburn+niter), burn=nburn, thin=nthin, progress_bar=False, tune_throughout=True)"
   ]
  },
  {
   "cell_type": "code",
   "execution_count": 22,
   "metadata": {
    "collapsed": true
   },
   "outputs": [],
   "source": [
    "Abl_gefitinib = 2200e-9 # 2200 nM from DiscoverRx screen data \n",
    "\n",
    "AblGef_dG = np.log(Abl_gefitinib)\n",
    "\n",
    "Abl_imatinib = 1.1e-9 # 1.1 nM from DiscoverRx screen data \n",
    "\n",
    "AblIma_dG = np.log(Abl_imatinib)"
   ]
  },
  {
   "cell_type": "code",
   "execution_count": 23,
   "metadata": {
    "collapsed": false
   },
   "outputs": [
    {
     "data": {
      "text/plain": [
       "<matplotlib.legend.Legend at 0x117861748>"
      ]
     },
     "execution_count": 23,
     "metadata": {},
     "output_type": "execute_result"
    },
    {
     "data": {
      "image/png": "[encoded data removed]",
      "text/plain": [
       "<matplotlib.figure.Figure at 0x1175e3c50>"
      ]
     },
     "metadata": {},
     "output_type": "display_data"
    }
   ],
   "source": [
    "fig, ax = plt.subplots(figsize=(8,4))\n",
    "plt.plot(comp_mcmc.DeltaG_B.trace(),'o',label='B')\n",
    "plt.plot(comp_mcmc.DeltaG_L.trace(),'o',label='L')\n",
    "plt.ylabel('$\\Delta G$ ($k_B T$)',fontsize=20);\n",
    "plt.xlabel('MCMC sample',fontsize=20);\n",
    "plt.legend()"
   ]
  },
  {
   "cell_type": "code",
   "execution_count": 24,
   "metadata": {
    "collapsed": false
   },
   "outputs": [
    {
     "data": {
      "image/png": "[encoded data removed]",
      "text/plain": [
       "<matplotlib.figure.Figure at 0x117886cc0>"
      ]
     },
     "metadata": {},
     "output_type": "display_data"
    }
   ],
   "source": [
    "plt.figure(figsize=(12,10))\n",
    "plt.hist(comp_mcmc.DeltaG_L.trace(),normed=True,label='DelG_L(Gef) = %s' %comp_mcmc.DeltaG_L.trace().mean());\n",
    "plt.axvline(x=AblGef_dG,color='b',linestyle='--',label='IUPHARM Gef')\n",
    "plt.hist(comp_mcmc.DeltaG_B.trace(),normed=True,label='DelG_B(Ima) = %s' %comp_mcmc.DeltaG_B.trace().mean());\n",
    "plt.axvline(x=AblIma_dG,color='orange',linestyle='--',label='IUPHARM Ima')\n",
    "plt.xlabel('$\\Delta G$ ($k_B T$)');\n",
    "plt.legend(loc=0);"
   ]
  },
  {
   "cell_type": "code",
   "execution_count": 25,
   "metadata": {
    "collapsed": false
   },
   "outputs": [
    {
     "name": "stderr",
     "output_type": "stream",
     "text": [
      "/Users/hansons/anaconda2/envs/python3/lib/python3.5/site-packages/matplotlib/pyplot.py:3397: MatplotlibDeprecationWarning: The 'hold' keyword argument is deprecated since 2.0.\n",
      "  mplDeprecation)\n"
     ]
    },
    {
     "data": {
      "image/png": "[encoded data removed]",
      "text/plain": [
       "<matplotlib.figure.Figure at 0x1178c54e0>"
      ]
     },
     "metadata": {},
     "output_type": "display_data"
    }
   ],
   "source": [
    "fig, ax = plt.subplots(figsize=(8,4))\n",
    "\n",
    "for top_complex_fluorescence_model in comp_mcmc.top_complex_fluorescence_model.trace()[::10]:\n",
    "    plt.semilogx(inputs['Lstated'], top_complex_fluorescence_model, color='orange',marker='.', alpha=0.2, hold=True)\n",
    "\n",
    "for top_ligand_fluorescence_model in comp_mcmc.top_ligand_fluorescence_model.trace()[::10]:\n",
    "    plt.semilogx(inputs['Lstated'], top_ligand_fluorescence_model, color='gray',marker='.', alpha=0.2, hold=True)\n",
    "    \n",
    "plt.semilogx(inputs['Lstated'], F_PL_i,'o',color='orange',label='%s (M)'%inputs['Bstated'][0])\n",
    "\n",
    "plt.semilogx(inputs['Lstated'],F_L_i,'o',color='gray',label='ligand')\n",
    "    \n",
    "ax.spines['top'].set_visible(False)\n",
    "ax.spines['right'].set_visible(False)\n",
    "\n",
    "plt.xlabel('$[L]_T$ (M)',fontsize=16);\n",
    "plt.yticks([])\n",
    "plt.xticks(fontsize=16)\n",
    "plt.ylabel('Fluorescence',fontsize=20);\n",
    "\n",
    "plt.tight_layout()"
   ]
  },
  {
   "cell_type": "code",
   "execution_count": null,
   "metadata": {
    "collapsed": true
   },
   "outputs": [],
   "source": []
  },
  {
   "cell_type": "code",
   "execution_count": null,
   "metadata": {
    "collapsed": true
   },
   "outputs": [],
   "source": []
  },
  {
   "cell_type": "code",
   "execution_count": null,
   "metadata": {
    "collapsed": true
   },
   "outputs": [],
   "source": []
  },
  {
   "cell_type": "code",
   "execution_count": null,
   "metadata": {
    "collapsed": true
   },
   "outputs": [],
   "source": []
  },
  {
   "cell_type": "code",
   "execution_count": null,
   "metadata": {
    "collapsed": true
   },
   "outputs": [],
   "source": []
  },
  {
   "cell_type": "code",
   "execution_count": null,
   "metadata": {
    "collapsed": true
   },
   "outputs": [],
   "source": []
  },
  {
   "cell_type": "code",
   "execution_count": null,
   "metadata": {
    "collapsed": true
   },
   "outputs": [],
   "source": []
  },
  {
   "cell_type": "code",
   "execution_count": null,
   "metadata": {
    "collapsed": true
   },
   "outputs": [],
   "source": []
  },
  {
   "cell_type": "code",
   "execution_count": null,
   "metadata": {
    "collapsed": true
   },
   "outputs": [],
   "source": []
  }
 ],
 "metadata": {
  "kernelspec": {
   "display_name": "Python 3",
   "language": "python",
   "name": "python3"
  },
  "language_info": {
   "codemirror_mode": {
    "name": "ipython",
    "version": 3
   },
   "file_extension": ".py",
   "mimetype": "text/x-python",
   "name": "python",
   "nbconvert_exporter": "python",
   "pygments_lexer": "ipython3",
   "version": "3.5.4"
  }
 },
 "nbformat": 4,
 "nbformat_minor": 2
}
